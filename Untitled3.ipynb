{
 "cells": [
  {
   "cell_type": "code",
   "execution_count": 4,
   "metadata": {},
   "outputs": [
    {
     "name": "stdout",
     "output_type": "stream",
     "text": [
      "Error! File not found\n"
     ]
    }
   ],
   "source": [
    "#Program 1\n",
    "#I/O exception\n",
    "try:\n",
    "   f = open(\"testfile\", \"r\")\n",
    "   f.write(\"My test file\")\n",
    "except IOError:\n",
    "   print (\"Error! File not found\")\n",
    "else:\n",
    "   print (\"Written content in the file successfully\")\n",
    "   f.close()"
   ]
  },
  {
   "cell_type": "code",
   "execution_count": 11,
   "metadata": {},
   "outputs": [
    {
     "name": "stdout",
     "output_type": "stream",
     "text": [
      "Enter a number: ghj\n",
      "Invalid input!!\n"
     ]
    }
   ],
   "source": [
    "#Program 2\n",
    "#Value error\n",
    "try:\n",
    "    a=int(input('Enter a number: '))\n",
    "    \n",
    "except ValueError:\n",
    "    print('Invalid input!!')"
   ]
  },
  {
   "cell_type": "code",
   "execution_count": 37,
   "metadata": {},
   "outputs": [],
   "source": [
    "#Program 3\n",
    "#Import error\n",
    "import math\n",
    "def func(x):\n",
    "    try:\n",
    "        y=math.sqrt(x)\n",
    "        return y\n",
    "        import gw_utility.Book\n",
    "    except ImportError:\n",
    "        print('Error in import!!')\n",
    "    "
   ]
  },
  {
   "cell_type": "code",
   "execution_count": 23,
   "metadata": {},
   "outputs": [
    {
     "name": "stdout",
     "output_type": "stream",
     "text": [
      "Arithmetic error!!\n"
     ]
    }
   ],
   "source": [
    "#Program 4\n",
    "#Arithmetic error\n",
    "try:\n",
    "    x=1/0\n",
    "except ZeroDivisionError:\n",
    "    print('Arithmetic error!!')"
   ]
  },
  {
   "cell_type": "code",
   "execution_count": 22,
   "metadata": {},
   "outputs": [
    {
     "name": "stdout",
     "output_type": "stream",
     "text": [
      "Overflow!!\n"
     ]
    }
   ],
   "source": [
    "#Program 5\n",
    "#Overflow error\n",
    "try:\n",
    "    x=16.0**257\n",
    "    print(x)\n",
    "except:\n",
    "    print('Overflow!!')"
   ]
  },
  {
   "cell_type": "code",
   "execution_count": 13,
   "metadata": {
    "scrolled": true
   },
   "outputs": [
    {
     "name": "stdout",
     "output_type": "stream",
     "text": [
      "Divide by zero not valid operation!!\n"
     ]
    }
   ],
   "source": [
    "#Program 6\n",
    "#Zero division error\n",
    "try:\n",
    "    x=1/0\n",
    "except ZeroDivisionError:\n",
    "    print('Divide by zero not valid operation!!')"
   ]
  },
  {
   "cell_type": "code",
   "execution_count": 21,
   "metadata": {},
   "outputs": [
    {
     "name": "stdout",
     "output_type": "stream",
     "text": [
      "Floating error occured!!\n"
     ]
    }
   ],
   "source": [
    "#Program 7\n",
    "#Floating point error\n",
    "try:\n",
    "    x=round(21.691/0.0)\n",
    "    print(x)\n",
    "except:\n",
    "    print('Floating error occured!!')"
   ]
  },
  {
   "cell_type": "code",
   "execution_count": 14,
   "metadata": {},
   "outputs": [
    {
     "name": "stdout",
     "output_type": "stream",
     "text": [
      "Value of x not found!!\n"
     ]
    }
   ],
   "source": [
    "#Program 8\n",
    "#Name error\n",
    "try:\n",
    "    print(x)\n",
    "except:\n",
    "    print('Value of x not found!!')"
   ]
  },
  {
   "cell_type": "code",
   "execution_count": 16,
   "metadata": {},
   "outputs": [
    {
     "name": "stdout",
     "output_type": "stream",
     "text": [
      "Index out of bound error occured!!\n"
     ]
    }
   ],
   "source": [
    "#Program 9\n",
    "#Index error\n",
    "try:\n",
    "    my_list=[1,2,3,4,5]\n",
    "    print(my_list[6])\n",
    "except IndexError:\n",
    "    print(\"Index out of bound error occured!!\")"
   ]
  },
  {
   "cell_type": "code",
   "execution_count": null,
   "metadata": {},
   "outputs": [],
   "source": []
  }
 ],
 "metadata": {
  "kernelspec": {
   "display_name": "Python 3",
   "language": "python",
   "name": "python3"
  },
  "language_info": {
   "codemirror_mode": {
    "name": "ipython",
    "version": 3
   },
   "file_extension": ".py",
   "mimetype": "text/x-python",
   "name": "python",
   "nbconvert_exporter": "python",
   "pygments_lexer": "ipython3",
   "version": "3.6.5"
  }
 },
 "nbformat": 4,
 "nbformat_minor": 2
}
