{
 "cells": [
  {
   "cell_type": "code",
   "execution_count": 20,
   "metadata": {},
   "outputs": [
    {
     "name": "stdout",
     "output_type": "stream",
     "text": [
      "Enter the integer: 2\n",
      "Enter the power: 3\n",
      "8.0\n"
     ]
    }
   ],
   "source": [
    "#Program 3\n",
    "#Class for calculating power\n",
    "class Power:\n",
    "    def calc_pow(self,x,n):\n",
    "        if n==0:\n",
    "            return 1\n",
    "        else:\n",
    "            y=math.pow(x,n)\n",
    "            return y\n",
    "x=int(input('Enter the integer: '))\n",
    "n=int(input('Enter the power: '))\n",
    "print(Power().calc_pow(x,n))"
   ]
  },
  {
   "cell_type": "code",
   "execution_count": 22,
   "metadata": {},
   "outputs": [
    {
     "name": "stdout",
     "output_type": "stream",
     "text": [
      "Enter the string: shefali kanyal\n",
      "kanyal shefali\n"
     ]
    }
   ],
   "source": [
    "#Program 4\n",
    "#Reverse a string word by word\n",
    "class Reverse:\n",
    "    def rev_str(self,string):\n",
    "      \n",
    "        return ' '.join(reversed(string.split()))\n",
    "x=input('Enter the string: ')\n",
    "print(Reverse().rev_str(x))\n"
   ]
  },
  {
   "cell_type": "code",
   "execution_count": 24,
   "metadata": {},
   "outputs": [
    {
     "name": "stdout",
     "output_type": "stream",
     "text": [
      "a() called\n",
      "b() called\n",
      "c() called\n",
      "d() called\n"
     ]
    }
   ],
   "source": [
    "#Inheritence\n",
    "#Multiple Inheritence\n",
    "class A:\n",
    "    def a(self):\n",
    "        print('a() called')\n",
    "class B:\n",
    "    def b(self):\n",
    "        print('b() called')\n",
    "class C:\n",
    "    def c(self):\n",
    "        print('c() called')\n",
    "class D(A,B,C):\n",
    "    def d(self):\n",
    "        print('d() called')\n",
    "obj=D()\n",
    "obj.a()\n",
    "obj.b()\n",
    "obj.c()\n",
    "obj.d()"
   ]
  },
  {
   "cell_type": "code",
   "execution_count": 54,
   "metadata": {},
   "outputs": [
    {
     "ename": "TypeError",
     "evalue": "geo_area() missing 1 required positional argument: 'r'",
     "output_type": "error",
     "traceback": [
      "\u001b[1;31m---------------------------------------------------------------------------\u001b[0m",
      "\u001b[1;31mTypeError\u001b[0m                                 Traceback (most recent call last)",
      "\u001b[1;32m<ipython-input-54-97b5ddc2ec9f>\u001b[0m in \u001b[0;36m<module>\u001b[1;34m()\u001b[0m\n\u001b[0;32m     23\u001b[0m \u001b[0mobj3\u001b[0m\u001b[1;33m=\u001b[0m\u001b[0mTriangle\u001b[0m\u001b[1;33m(\u001b[0m\u001b[1;33m)\u001b[0m\u001b[1;33m\u001b[0m\u001b[0m\n\u001b[0;32m     24\u001b[0m \u001b[1;33m\u001b[0m\u001b[0m\n\u001b[1;32m---> 25\u001b[1;33m \u001b[0msoarea\u001b[0m\u001b[1;33m(\u001b[0m\u001b[0mobj1\u001b[0m\u001b[1;33m)\u001b[0m\u001b[1;33m\u001b[0m\u001b[0m\n\u001b[0m\u001b[0;32m     26\u001b[0m \u001b[0msoarea\u001b[0m\u001b[1;33m(\u001b[0m\u001b[0mobj2\u001b[0m\u001b[1;33m)\u001b[0m\u001b[1;33m\u001b[0m\u001b[0m\n\u001b[0;32m     27\u001b[0m \u001b[0msoarea\u001b[0m\u001b[1;33m(\u001b[0m\u001b[0mobj3\u001b[0m\u001b[1;33m)\u001b[0m\u001b[1;33m\u001b[0m\u001b[0m\n",
      "\u001b[1;32m<ipython-input-54-97b5ddc2ec9f>\u001b[0m in \u001b[0;36msoarea\u001b[1;34m(xyz)\u001b[0m\n\u001b[0;32m     17\u001b[0m         \u001b[0mprint\u001b[0m\u001b[1;33m(\u001b[0m\u001b[1;34m'Area of circle: '\u001b[0m\u001b[1;33m,\u001b[0m\u001b[0mac\u001b[0m\u001b[1;33m)\u001b[0m\u001b[1;33m\u001b[0m\u001b[0m\n\u001b[0;32m     18\u001b[0m \u001b[1;32mdef\u001b[0m \u001b[0msoarea\u001b[0m\u001b[1;33m(\u001b[0m\u001b[0mxyz\u001b[0m\u001b[1;33m)\u001b[0m\u001b[1;33m:\u001b[0m\u001b[1;33m\u001b[0m\u001b[0m\n\u001b[1;32m---> 19\u001b[1;33m     \u001b[0mxyz\u001b[0m\u001b[1;33m.\u001b[0m\u001b[0mgeo_area\u001b[0m\u001b[1;33m(\u001b[0m\u001b[1;33m)\u001b[0m\u001b[1;33m\u001b[0m\u001b[0m\n\u001b[0m\u001b[0;32m     20\u001b[0m \u001b[1;33m\u001b[0m\u001b[0m\n\u001b[0;32m     21\u001b[0m \u001b[0mobj1\u001b[0m\u001b[1;33m=\u001b[0m\u001b[0mCircle\u001b[0m\u001b[1;33m(\u001b[0m\u001b[1;33m)\u001b[0m\u001b[1;33m\u001b[0m\u001b[0m\n",
      "\u001b[1;31mTypeError\u001b[0m: geo_area() missing 1 required positional argument: 'r'"
     ]
    }
   ],
   "source": [
    "#Program 6\n",
    "#Polymorphism\n",
    "#1.Area\n",
    "import math\n",
    "class Triangle:\n",
    "    def geo_area(self,s1,s2,s3):\n",
    "        p=(s1+s2+s3)/2\n",
    "        a=math.sqrt(s*(s-s1)*(s-s2)*(s-s3))\n",
    "        print('Area of triangle: ',a)\n",
    "class Rectangle:\n",
    "    def geo_area(self,l,b):\n",
    "        ar=l*b\n",
    "        print('Area of rectangle: ',ar)\n",
    "class Circle:\n",
    "    def geo_area(self,r):\n",
    "        ac=math.pi*r**2\n",
    "        print('Area of circle: ',ac)\n",
    "def soarea(xyz):\n",
    "    xyz.geo_area()\n",
    "\n",
    "obj1=Circle()\n",
    "obj2=Rectangle()\n",
    "obj3=Triangle()\n",
    "\n",
    "soarea(obj1)\n",
    "soarea(obj2)\n",
    "soarea(obj3)"
   ]
  },
  {
   "cell_type": "code",
   "execution_count": 53,
   "metadata": {},
   "outputs": [
    {
     "name": "stdout",
     "output_type": "stream",
     "text": [
      "Walk\n",
      "Swim\n"
     ]
    }
   ],
   "source": [
    "#Program 6\n",
    "\n",
    "class Horse:\n",
    "    def motion(self):\n",
    "        print(\"Walk\")\n",
    "class Fish:\n",
    "    def motion(self):\n",
    "        print(\"Swim\")\n",
    "def movement(animal):\n",
    "    animal.motion()\n",
    "    \n",
    "obj1=Horse()\n",
    "obj2=Fish()\n",
    "\n",
    "movement(obj1)\n",
    "movement(obj2)\n",
    "    "
   ]
  },
  {
   "cell_type": "code",
   "execution_count": null,
   "metadata": {},
   "outputs": [],
   "source": []
  }
 ],
 "metadata": {
  "kernelspec": {
   "display_name": "Python 3",
   "language": "python",
   "name": "python3"
  },
  "language_info": {
   "codemirror_mode": {
    "name": "ipython",
    "version": 3
   },
   "file_extension": ".py",
   "mimetype": "text/x-python",
   "name": "python",
   "nbconvert_exporter": "python",
   "pygments_lexer": "ipython3",
   "version": "3.6.5"
  }
 },
 "nbformat": 4,
 "nbformat_minor": 2
}
